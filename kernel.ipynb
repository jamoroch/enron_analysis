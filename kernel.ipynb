{
 "cells": [
  {
   "cell_type": "code",
   "execution_count": 102,
   "metadata": {},
   "outputs": [],
   "source": [
    "message_structure_keys = [('Message-ID', False), ('Date', True), ('From', True), ('To', True), ('Subject', True), \n",
    "                        ('Mime-Version', False), ('Content-Type',False),('Content-Transfer-Encoding',False),\n",
    "                        ('X-From',False),('X-To',False), ('X-cc',False), ('X-bcc',False),\n",
    "                        ('X-Folder',False), ('X-Origin',False), ('X-FileName',False)]"
   ]
  },
  {
   "cell_type": "code",
   "execution_count": 103,
   "metadata": {},
   "outputs": [],
   "source": [
    "def extract_value(key, line):\n",
    "    return line.split(key + ':')[1].strip()"
   ]
  },
  {
   "cell_type": "code",
   "execution_count": 141,
   "metadata": {},
   "outputs": [],
   "source": [
    "def transform_message(keys, message):\n",
    "    try:\n",
    "        message_structure = {}\n",
    "        body = ''\n",
    "        for key in keys:\n",
    "            for line in message:\n",
    "                if key[0] in line:\n",
    "                    if key[1]:\n",
    "                        message_structure.update({key[0]:extract_value(key[0], line)})\n",
    "                    message.remove(line)\n",
    "                    break\n",
    "        message_structure.update({'body':\"\".join(message).strip()})\n",
    "    except:\n",
    "        pass\n",
    "    return message_structure"
   ]
  },
  {
   "cell_type": "code",
   "execution_count": 142,
   "metadata": {},
   "outputs": [],
   "source": [
    "import pandas as pd\n",
    "import nltk"
   ]
  },
  {
   "cell_type": "code",
   "execution_count": 163,
   "metadata": {},
   "outputs": [],
   "source": [
    "# Enron Emails can be found here https://www.cs.cmu.edu/~./enron/\n",
    "text = pd.read_csv(\"data/emails.csv.zip\", chunksize=10000)\n",
    "temp = next(text)"
   ]
  },
  {
   "cell_type": "code",
   "execution_count": 164,
   "metadata": {},
   "outputs": [],
   "source": [
    "temp = temp.drop(columns=[\"file\"])"
   ]
  },
  {
   "cell_type": "code",
   "execution_count": 165,
   "metadata": {},
   "outputs": [],
   "source": [
    "temp2 = temp.apply(lambda x : x.str.split('\\n'), axis = 1)"
   ]
  },
  {
   "cell_type": "code",
   "execution_count": 166,
   "metadata": {
    "scrolled": true
   },
   "outputs": [],
   "source": [
    "temp3 = []\n",
    "for index, rows in temp2.iterrows():\n",
    "    temp3.append(transform_message(message_structure_keys, rows.message))"
   ]
  },
  {
   "cell_type": "code",
   "execution_count": 167,
   "metadata": {},
   "outputs": [],
   "source": [
    "df = pd.DataFrame(temp3)"
   ]
  },
  {
   "cell_type": "code",
   "execution_count": 168,
   "metadata": {},
   "outputs": [],
   "source": [
    "del temp, temp2, temp3"
   ]
  }
 ],
 "metadata": {
  "kernelspec": {
   "display_name": "Python 3",
   "language": "python",
   "name": "python3"
  },
  "language_info": {
   "codemirror_mode": {
    "name": "ipython",
    "version": 3
   },
   "file_extension": ".py",
   "mimetype": "text/x-python",
   "name": "python",
   "nbconvert_exporter": "python",
   "pygments_lexer": "ipython3",
   "version": "3.7.0"
  }
 },
 "nbformat": 4,
 "nbformat_minor": 2
}
