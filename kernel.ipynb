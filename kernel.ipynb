{
 "cells": [
  {
   "cell_type": "code",
   "execution_count": 1,
   "metadata": {},
   "outputs": [],
   "source": [
    "message_structure_keys = [('Message-ID', False), ('Date', True), ('From', True), ('To', True), ('Subject', True), \n",
    "                        ('Mime-Version', False), ('Content-Type',False),('Content-Transfer-Encoding',False),\n",
    "                        ('X-From',False),('X-To',False), ('X-cc',False), ('X-bcc',False),\n",
    "                        ('X-Folder',False), ('X-Origin',False), ('X-FileName',False)]"
   ]
  },
  {
   "cell_type": "code",
   "execution_count": 2,
   "metadata": {},
   "outputs": [],
   "source": [
    "def extract_value(key, line):\n",
    "    return line.split(key + ':')[1].strip()"
   ]
  },
  {
   "cell_type": "code",
   "execution_count": 3,
   "metadata": {},
   "outputs": [],
   "source": [
    "def transform_message(keys, message):\n",
    "    try:\n",
    "        message_structure = {}\n",
    "        body = ''\n",
    "        for key in keys:\n",
    "            for line in message:\n",
    "                if key[0] in line:\n",
    "                    if key[1]:\n",
    "                        message_structure.update({key[0]:extract_value(key[0], line)})\n",
    "                    message.remove(line)\n",
    "                    break\n",
    "        message_structure.update({'body':\"\".join(message).strip()})\n",
    "    except:\n",
    "        pass\n",
    "    return message_structure"
   ]
  },
  {
   "cell_type": "code",
   "execution_count": 119,
   "metadata": {},
   "outputs": [],
   "source": [
    "import pandas as pd\n",
    "import numpy as np"
   ]
  },
  {
   "cell_type": "code",
   "execution_count": 58,
   "metadata": {},
   "outputs": [],
   "source": [
    "# Enron Emails can be found here https://www.cs.cmu.edu/~./enron/\n",
    "text = pd.read_csv(\"data/emails.csv.zip\", chunksize=10)\n",
    "temp = next(text)"
   ]
  },
  {
   "cell_type": "code",
   "execution_count": 59,
   "metadata": {},
   "outputs": [],
   "source": [
    "temp = temp.drop(columns=[\"file\"])"
   ]
  },
  {
   "cell_type": "code",
   "execution_count": 60,
   "metadata": {},
   "outputs": [],
   "source": [
    "temp2 = temp.apply(lambda x : x.str.split('\\n'), axis = 1)"
   ]
  },
  {
   "cell_type": "code",
   "execution_count": 61,
   "metadata": {
    "scrolled": true
   },
   "outputs": [],
   "source": [
    "temp3 = []\n",
    "for index, rows in temp2.iterrows():\n",
    "    temp3.append(transform_message(message_structure_keys, rows.message))"
   ]
  },
  {
   "cell_type": "code",
   "execution_count": 62,
   "metadata": {},
   "outputs": [],
   "source": [
    "df = pd.DataFrame(temp3)"
   ]
  },
  {
   "cell_type": "code",
   "execution_count": 63,
   "metadata": {},
   "outputs": [],
   "source": [
    "del temp, temp2, temp3"
   ]
  },
  {
   "cell_type": "code",
   "execution_count": 124,
   "metadata": {},
   "outputs": [],
   "source": [
    "split_documents = df.body.str.split(r'\\W+')"
   ]
  },
  {
   "cell_type": "code",
   "execution_count": 125,
   "metadata": {},
   "outputs": [],
   "source": [
    "docs = []\n",
    "for doc in split_documents.values.tolist():\n",
    "    docs.append(set(filter( lambda x: re.match(r'^(\\D)+',x),set(map(str.lower, doc)))))\n",
    "del split_documents"
   ]
  },
  {
   "cell_type": "code",
   "execution_count": 126,
   "metadata": {},
   "outputs": [],
   "source": [
    "from nltk.corpus import stopwords\n",
    "stop_words = stopwords.words('english')"
   ]
  },
  {
   "cell_type": "code",
   "execution_count": 129,
   "metadata": {},
   "outputs": [],
   "source": [
    "words = [[w for w in doc if not w in stop_words] for doc in docs]\n",
    "del docs"
   ]
  },
  {
   "cell_type": "code",
   "execution_count": 131,
   "metadata": {},
   "outputs": [],
   "source": [
    "from nltk.stem.porter import PorterStemmer\n",
    "porter = PorterStemmer()\n",
    "stemmed = [[porter.stem(w) for w in word] for word in words]\n",
    "del words"
   ]
  },
  {
   "cell_type": "code",
   "execution_count": null,
   "metadata": {},
   "outputs": [],
   "source": []
  }
 ],
 "metadata": {
  "kernelspec": {
   "display_name": "Python 3",
   "language": "python",
   "name": "python3"
  },
  "language_info": {
   "codemirror_mode": {
    "name": "ipython",
    "version": 3
   },
   "file_extension": ".py",
   "mimetype": "text/x-python",
   "name": "python",
   "nbconvert_exporter": "python",
   "pygments_lexer": "ipython3",
   "version": "3.7.0"
  }
 },
 "nbformat": 4,
 "nbformat_minor": 2
}
